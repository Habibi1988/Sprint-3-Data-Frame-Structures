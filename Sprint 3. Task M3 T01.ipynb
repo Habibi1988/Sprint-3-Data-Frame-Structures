{
 "cells": [
  {
   "cell_type": "markdown",
   "id": "c97d6040",
   "metadata": {},
   "source": [
    "## Mustafa Habibi"
   ]
  },
  {
   "cell_type": "markdown",
   "id": "3d512b3e",
   "metadata": {},
   "source": [
    "### Exercise 1\n",
    "Create a function that, given a one-dimensional Array, gives you a basic statistical summary of the data. If it detects that the array has more than one dimension, it must display an error message."
   ]
  },
  {
   "cell_type": "code",
   "execution_count": 1,
   "id": "60617654",
   "metadata": {},
   "outputs": [
    {
     "name": "stdout",
     "output_type": "stream",
     "text": [
      "Max value:  46\n",
      "Min value:  2\n",
      "Sum of values:  288\n",
      "Standard deviation:  13.808210118138652\n",
      "Variance:  190.66666666666666\n",
      "Number of dimensions:  1\n"
     ]
    }
   ],
   "source": [
    "import numpy as np\n",
    "\n",
    "def s_array(my_array):\n",
    "    if my_array.ndim>1:\n",
    "     print ('Error, this array is one dimension')\n",
    "    else:\n",
    "        print(\"Max value: \", np.max(my_array))\n",
    "        print(\"Min value: \", np.min(my_array))\n",
    "        print(\"Sum of values: \", np.sum(my_array))\n",
    "        print(\"Standard deviation: \", np.std(my_array))\n",
    "        print(\"Variance: \", np.var(my_array))\n",
    "        print(\"Number of dimensions: \", my_array.ndim)\n",
    "        \n",
    "my_array= np.arange(2, 50, 4)\n",
    "\n",
    "s_array(my_array)\n",
    "\n",
    "\n",
    "    "
   ]
  },
  {
   "cell_type": "code",
   "execution_count": 2,
   "id": "eb3dd3df",
   "metadata": {},
   "outputs": [
    {
     "name": "stdout",
     "output_type": "stream",
     "text": [
      "Error, this array is one dimension\n"
     ]
    }
   ],
   "source": [
    "my_array = np.array([[2,4,5], [6,5,4]])\n",
    "s_array(my_array)"
   ]
  },
  {
   "cell_type": "markdown",
   "id": "d3e7d76a",
   "metadata": {},
   "source": [
    "## Exercise 2\n",
    "Create a function that generates an NxN square of random numbers between 0 and 100."
   ]
  },
  {
   "cell_type": "code",
   "execution_count": 68,
   "id": "1f6914d5",
   "metadata": {},
   "outputs": [
    {
     "name": "stdout",
     "output_type": "stream",
     "text": [
      "[[78 66 53 77 44 82 35 60  2]\n",
      " [87 26 80 21 84 67 21 67 94]\n",
      " [93 41 56 20 94 25 91 43  8]\n",
      " [ 4 39 85 71 55 28 91 41 54]\n",
      " [62 51 23 13 91  3 32 85 47]\n",
      " [ 4 90 49 57 60 77 79 83 80]\n",
      " [61 72 10 42 21 14 93 71 15]\n",
      " [88 65  1 14 79 91 69 59 87]\n",
      " [42 14 65 17 24 35 54 40 19]]\n"
     ]
    }
   ],
   "source": [
    "import numpy as np\n",
    "\n",
    "def generate_random_array(shape, low=0, high=100):\n",
    "    return np.random.randint(low=low, high=high, size=shape)\n",
    "\n",
    "x = generate_random_array(shape=(9,9))\n",
    "\n",
    "print(x)"
   ]
  },
  {
   "cell_type": "code",
   "execution_count": 69,
   "id": "311a6416",
   "metadata": {},
   "outputs": [
    {
     "name": "stdout",
     "output_type": "stream",
     "text": [
      "[[18 84 39  3 50 75 21 31 52]\n",
      " [85 96 19 77 97 16 77 58 73]\n",
      " [68 88 17 37  7 25 31 95 78]\n",
      " [57 30 10 37 74 53 22 67 85]\n",
      " [54 43 70 18 29 24 38 43 90]\n",
      " [53 15 75 22 53 78 13 19 65]\n",
      " [ 6 28  1 66 15 68 73 70 68]\n",
      " [47 60 89 60 16  8 97  6 60]\n",
      " [55 52 44 71 54 29 90 92 47]]\n"
     ]
    }
   ],
   "source": [
    "def generate_random_array(rows, cols):\n",
    "    return np.random.randint(0, 100, size=(rows, cols))\n",
    "\n",
    "# Example usage:\n",
    "my_array = generate_random_array(9, 9)\n",
    "print(my_array)"
   ]
  },
  {
   "cell_type": "markdown",
   "id": "d77a076d",
   "metadata": {},
   "source": [
    "## Exercise 3\n",
    "Create a function that, given a two-dimensional table (NxM), calculates the totals per row and the totals per column."
   ]
  },
  {
   "cell_type": "code",
   "execution_count": 70,
   "id": "9959b0c1",
   "metadata": {},
   "outputs": [
    {
     "name": "stdout",
     "output_type": "stream",
     "text": [
      "The two dimensional table: [[ 2 34  5  6  3  2]\n",
      " [ 4  5  8  7  8  7]\n",
      " [ 3  4  7  6  5  4]]\n",
      "Number of dimensions= 2\n",
      "Totals per row is: [[52 39 29]]\n",
      "Totals per columns is: [[ 9 43 20 19 16 13]]\n"
     ]
    }
   ],
   "source": [
    "def total_p_column(x):\n",
    "    return x\n",
    "x = np.array([[2,34,5,6,3,2], [4,5,8,7,8,7], [3,4,7,6,5,4]])\n",
    "print ('The two dimensional table:',x)\n",
    "print ('Number of dimensions=',x.ndim)\n",
    "print ('Totals per row is:',np.sum([x],axis=2))\n",
    "print ('Totals per columns is:',np.sum([x],axis=1))"
   ]
  },
  {
   "cell_type": "markdown",
   "id": "3ecb8f48",
   "metadata": {},
   "source": [
    "## Exercise 4\n",
    "Manually implement a function that calculates the correlation coefficient. Learn about its uses and interpretation."
   ]
  },
  {
   "cell_type": "code",
   "execution_count": 71,
   "id": "1d9acbdc",
   "metadata": {},
   "outputs": [
    {
     "name": "stdout",
     "output_type": "stream",
     "text": [
      "calculate the correlation coeffecient between x and y is:  0.9787781425897796\n"
     ]
    }
   ],
   "source": [
    "# Define two arrays of data:\n",
    "x= np.array([2, 3, 4, 5, 6, 7, 9])\n",
    "y= np.array([30, 40, 60, 70, 80, 90, 100])\n",
    "# calculate the corration coeffecient between 'exame score(y) with study hours (x)'\n",
    "r= np.corrcoef(x,y)[0,1]\n",
    "\n",
    "print ('correlation coeffecient calculation result between x and y is: ', r)\n",
    "# this number shows that the more hours you spend on study, the better score you can get.\n"
   ]
  }
 ],
 "metadata": {
  "kernelspec": {
   "display_name": "Python 3 (ipykernel)",
   "language": "python",
   "name": "python3"
  },
  "language_info": {
   "codemirror_mode": {
    "name": "ipython",
    "version": 3
   },
   "file_extension": ".py",
   "mimetype": "text/x-python",
   "name": "python",
   "nbconvert_exporter": "python",
   "pygments_lexer": "ipython3",
   "version": "3.9.13"
  }
 },
 "nbformat": 4,
 "nbformat_minor": 5
}
